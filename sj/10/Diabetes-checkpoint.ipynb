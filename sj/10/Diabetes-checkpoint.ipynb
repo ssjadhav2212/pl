{
 "cells": [
  {
   "cell_type": "code",
   "execution_count": 4,
   "metadata": {},
   "outputs": [
    {
     "name": "stdout",
     "output_type": "stream",
     "text": [
      "Predicted Value :  [0. 0. 1. 1. 0. 0. 1. 0. 1. 1. 0. 0. 0. 0. 1. 0. 0. 0. 0. 0. 0. 0. 1. 0.\n",
      " 1. 0. 1. 0. 1. 0. 0. 0. 0. 0. 0. 1. 1. 0. 0. 0. 0. 1. 0. 1. 0. 1. 0. 0.\n",
      " 1. 1. 0. 0. 0. 0. 0. 0. 0. 0. 0. 0. 0. 0. 0. 0. 0. 1. 0. 0. 0. 0. 0. 0.\n",
      " 0. 1. 0. 0. 1. 1. 1. 1. 0. 1. 0. 0. 0. 0. 1. 1. 1. 1. 0. 0. 1. 0. 1. 0.\n",
      " 1. 0. 0. 0.]\n",
      "\n",
      "Score Value 75.0\n"
     ]
    }
   ],
   "source": [
    "#Import Library of Gaussian Naive Bayes model\n",
    "import sklearn.metrics\n",
    "from sklearn.naive_bayes import GaussianNB\n",
    "import numpy as np\n",
    "import math\n",
    "import random\n",
    "\n",
    "data = np.loadtxt('pima-indians-diabetes.csv', delimiter = ',')\n",
    "X_train = data[0:667,0:8]\n",
    "Y_train = data[0:667,8:9]\n",
    "X_test = data[667:767,0:8]\n",
    "Y_test = data[667:767,8:9]\n",
    "#print(X_train)\n",
    "#print(Y_train)\n",
    "#print(X_test)\n",
    "#print(Y_test)\n",
    "arr1 = np.array(X_train, np.float32)\n",
    "arr2 = np.array(Y_train, np.float32)\n",
    "##Create a Gaussian Classifier\n",
    "model = GaussianNB()\n",
    "\n",
    "# Train the model using the training sets \n",
    "model.fit(arr1,arr2.ravel())\n",
    "#Predict Output \n",
    "predicted= model.predict(X_test)\n",
    "score = sklearn.metrics.accuracy_score(Y_test, predicted, normalize=True, sample_weight=None)*100\n",
    "print(\"Predicted Value : \", predicted)\n",
    "print(\"\\nScore Value : \",score)"
   ]
  },
  {
   "cell_type": "code",
   "execution_count": null,
   "metadata": {},
   "outputs": [],
   "source": []
  }
 ],
 "metadata": {
  "kernelspec": {
   "display_name": "Python 3",
   "language": "python",
   "name": "python3"
  },
  "language_info": {
   "codemirror_mode": {
    "name": "ipython",
    "version": 3
   },
   "file_extension": ".py",
   "mimetype": "text/x-python",
   "name": "python",
   "nbconvert_exporter": "python",
   "pygments_lexer": "ipython3",
   "version": "3.6.5"
  }
 },
 "nbformat": 4,
 "nbformat_minor": 2
}
